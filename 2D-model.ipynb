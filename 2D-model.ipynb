{
 "cells": [
  {
   "cell_type": "code",
   "execution_count": null,
   "id": "008a2278",
   "metadata": {},
   "outputs": [],
   "source": [
    "# Imports & Seeding\n",
    "import os\n",
    "import re\n",
    "import pandas as pd\n",
    "import torch\n",
    "import torch.nn as nn\n",
    "import numpy as np\n",
    "from PIL import Image\n",
    "from torch.utils.data import Dataset, DataLoader, random_split\n",
    "from torchvision import transforms\n",
    "from efficientnet_pytorch import EfficientNet\n",
    "import pytorch_lightning as pl\n",
    "import matplotlib.pyplot as plt\n",
    "from pytorch_grad_cam import GradCAM\n",
    "from pytorch_grad_cam.utils.model_targets import ClassifierOutputTarget\n",
    "from pytorch_grad_cam.utils.image import show_cam_on_image\n",
    "\n",
    "# For reproducibility\n",
    "seed = 42\n",
    "torch.manual_seed(seed)\n",
    "np.random.seed(seed)"
   ]
  },
  {
   "cell_type": "code",
   "execution_count": null,
   "id": "51de2f16",
   "metadata": {},
   "outputs": [],
   "source": [
    "# RSNA Dataset Definition\n",
    "class RSNADataset(Dataset):\n",
    "    def __init__(self, labels_path, patient_dir, transform=None):\n",
    "        \"\"\"\n",
    "        2D: stacks three HU-windowed views (brain, subdural, bone)\n",
    "        into a 3-channel tensor.\n",
    "        \"\"\"\n",
    "        df = pd.read_csv(labels_path)\n",
    "        self.transform = transform\n",
    "\n",
    "        window_suffixes = ('_brain.png', '_subdural.png', '_bone.png')\n",
    "        id2info = {}\n",
    "\n",
    "        for pid in os.listdir(patient_dir):\n",
    "            pid_folder = os.path.join(patient_dir, pid)\n",
    "            if not os.path.isdir(pid_folder):\n",
    "                continue\n",
    "\n",
    "            for fname in os.listdir(pid_folder):\n",
    "                if not fname.lower().endswith('.png'):\n",
    "                    continue\n",
    "                if not any(fname.lower().endswith(s) for s in window_suffixes):\n",
    "                    continue\n",
    "\n",
    "                base, _ = os.path.splitext(fname)\n",
    "                # match e.g. \"0001_ID_ab12cd34_brain\"\n",
    "                m = re.match(\n",
    "                    r'^(?P<prefix>\\d+_)(?P<id>ID_[0-9a-f]+)_(?:brain|subdural|bone)$',\n",
    "                    base, flags=re.IGNORECASE\n",
    "                )\n",
    "                if not m:\n",
    "                    continue\n",
    "\n",
    "                prefix   = m.group('prefix')       # \"0001_\"\n",
    "                image_id = m.group('id')           # \"ID_ab12cd34\"\n",
    "                # record once per ID\n",
    "                if image_id not in id2info:\n",
    "                    id2info[image_id] = (pid_folder, prefix)\n",
    "\n",
    "        # filter CSV to only those IDs\n",
    "        df = df[df.ImageID.isin(id2info)].reset_index(drop=True)\n",
    "        if df.empty:\n",
    "            raise RuntimeError(\"No windowed PNGs found for any ImageID!\")\n",
    "\n",
    "        df['patient_folder'] = df.ImageID.map(lambda i: id2info[i][0])\n",
    "        df['prefix']         = df.ImageID.map(lambda i: id2info[i][1])\n",
    "        self.df = df\n",
    "        self.label_cols = [\n",
    "            'epidural', 'intraparenchymal', 'intraventricular',\n",
    "            'subarachnoid', 'subdural'\n",
    "        ]\n",
    "\n",
    "    def __len__(self):\n",
    "        return len(self.df)\n",
    "\n",
    "    def __getitem__(self, idx):\n",
    "        row = self.df.iloc[idx]\n",
    "        folder = row.patient_folder\n",
    "        pr     = row.prefix\n",
    "        img_id = row.ImageID\n",
    "\n",
    "        channels = []\n",
    "        for win in ['brain', 'subdural', 'bone']:\n",
    "            fname = f\"{pr}{img_id}_{win}.png\"\n",
    "            path  = os.path.join(folder, fname)\n",
    "            im    = Image.open(path).convert('L')\n",
    "            if self.transform:\n",
    "                im = self.transform(im)\n",
    "            channels.append(im)           # each is [1,H,W]\n",
    "\n",
    "        x = torch.cat(channels, dim=0)    # [3,H,W]\n",
    "        y = row[self.label_cols].values.astype(np.float32)\n",
    "        return x, torch.from_numpy(y)"
   ]
  },
  {
   "cell_type": "code",
   "execution_count": null,
   "id": "f12bf61f",
   "metadata": {},
   "outputs": [],
   "source": [
    "# LightningModule Definition\n",
    "class EfficientNetRSNA(pl.LightningModule):\n",
    "    def __init__(self, num_labels, lr=1e-4):\n",
    "        super().__init__()\n",
    "        self.save_hyperparameters()\n",
    "        self.net     = EfficientNet.from_pretrained('efficientnet-b0', num_classes=num_labels)\n",
    "        self.loss_fn = nn.BCEWithLogitsLoss()\n",
    "\n",
    "    def forward(self, x):\n",
    "        return self.net(x)\n",
    "\n",
    "    def training_step(self, batch, batch_idx):\n",
    "        x,y = batch\n",
    "        logits = self(x)\n",
    "        loss   = self.loss_fn(logits, y)\n",
    "        self.log('train_loss', loss, prog_bar=True)\n",
    "        return loss\n",
    "\n",
    "    def validation_step(self, batch, batch_idx):\n",
    "        x,y = batch\n",
    "        logits = self(x)\n",
    "        loss   = self.loss_fn(logits, y)\n",
    "        self.log('val_loss', loss, prog_bar=True)\n",
    "\n",
    "    def configure_optimizers(self):\n",
    "        return torch.optim.Adam(self.parameters(), lr=self.hparams.lr)"
   ]
  },
  {
   "cell_type": "code",
   "execution_count": null,
   "id": "569c20d7",
   "metadata": {},
   "outputs": [
    {
     "name": "stdout",
     "output_type": "stream",
     "text": [
      "Total slices: 50863\n"
     ]
    }
   ],
   "source": [
    "# Prepare Dataset & DataLoaders\n",
    "CSV_PATH    = 'labels.csv'\n",
    "PATIENT_DIR = 'patient_images_0_1000'\n",
    "k_neighbors = 1\n",
    "batch_size  = 16\n",
    "lr          = 1e-4\n",
    "max_epochs  = 10\n",
    "\n",
    "torch.manual_seed(seed)\n",
    "np.random.seed(seed)\n",
    "\n",
    "# Transforms and dataset\n",
    "train_transform = transforms.Compose([\n",
    "    transforms.Resize((224, 224)),\n",
    "    transforms.ToTensor(),           # now produces a 1×224×224 tensor per window\n",
    "])\n",
    "dataset = RSNADataset(CSV_PATH, PATIENT_DIR,\n",
    "                      transform=train_transform)\n",
    "print(f\"Total slices: {len(dataset)}\")\n",
    "\n",
    "# Split 70/15/15\n",
    "total      = len(dataset)\n",
    "train_size = int(0.70 * total)\n",
    "val_size   = int(0.15 * total)\n",
    "test_size  = total - train_size - val_size\n",
    "\n",
    "generator = torch.Generator().manual_seed(seed)\n",
    "train_ds, val_ds, test_ds = random_split(dataset,\n",
    "                                         [train_size, val_size, test_size],\n",
    "                                         generator=generator)\n",
    "\n",
    "train_loader = DataLoader(train_ds, batch_size=batch_size, shuffle=True)\n",
    "val_loader   = DataLoader(val_ds,   batch_size=batch_size, shuffle=False)\n",
    "test_loader  = DataLoader(test_ds,  batch_size=batch_size, shuffle=False)"
   ]
  },
  {
   "cell_type": "code",
   "execution_count": null,
   "id": "c2cee0f5",
   "metadata": {},
   "outputs": [
    {
     "name": "stdout",
     "output_type": "stream",
     "text": [
      "Splits → Train: 38147, Val: 7629, Test: 5087\n"
     ]
    }
   ],
   "source": [
    "n = len(dataset)\n",
    "train_size = int(0.75 * n)\n",
    "val_size   = int(0.15 * n)\n",
    "test_size  = n - train_size - val_size\n",
    "\n",
    "train_ds, val_ds, test_ds = random_split(dataset, [train_size, val_size, test_size])\n",
    "print(f\"Splits → Train: {len(train_ds)}, Val: {len(val_ds)}, Test: {len(test_ds)}\")"
   ]
  },
  {
   "cell_type": "code",
   "execution_count": null,
   "id": "d643fdf4",
   "metadata": {},
   "outputs": [
    {
     "name": "stderr",
     "output_type": "stream",
     "text": [
      "You are using the plain ModelCheckpoint callback. Consider using LitModelCheckpoint which with seamless uploading to Model registry.\n",
      "GPU available: True (mps), used: True\n",
      "TPU available: False, using: 0 TPU cores\n",
      "HPU available: False, using: 0 HPUs\n"
     ]
    },
    {
     "name": "stdout",
     "output_type": "stream",
     "text": [
      "Loaded pretrained weights for efficientnet-b0\n"
     ]
    },
    {
     "name": "stderr",
     "output_type": "stream",
     "text": [
      "/opt/anaconda3/lib/python3.12/site-packages/pytorch_lightning/trainer/connectors/logger_connector/logger_connector.py:76: Starting from v1.9.0, `tensorboardX` has been removed as a dependency of the `pytorch_lightning` package, due to potential conflicts with other packages in the ML ecosystem. For this reason, `logger=True` will use `CSVLogger` as the default logger, unless the `tensorboard` or `tensorboardX` packages are found. Please `pip install lightning[extra]` or one of them to enable TensorBoard support by default\n",
      "\n",
      "  | Name    | Type              | Params | Mode \n",
      "------------------------------------------------------\n",
      "0 | net     | EfficientNet      | 4.0 M  | train\n",
      "1 | loss_fn | BCEWithLogitsLoss | 0      | train\n",
      "------------------------------------------------------\n",
      "4.0 M     Trainable params\n",
      "0         Non-trainable params\n",
      "4.0 M     Total params\n",
      "16.056    Total estimated model params size (MB)\n",
      "250       Modules in train mode\n",
      "0         Modules in eval mode\n"
     ]
    },
    {
     "data": {
      "application/vnd.jupyter.widget-view+json": {
       "model_id": "149ef881cf304749a58f185a5cbf144f",
       "version_major": 2,
       "version_minor": 0
      },
      "text/plain": [
       "Sanity Checking: |          | 0/? [00:00<?, ?it/s]"
      ]
     },
     "metadata": {},
     "output_type": "display_data"
    },
    {
     "name": "stderr",
     "output_type": "stream",
     "text": [
      "/opt/anaconda3/lib/python3.12/site-packages/pytorch_lightning/trainer/connectors/data_connector.py:425: The 'val_dataloader' does not have many workers which may be a bottleneck. Consider increasing the value of the `num_workers` argument` to `num_workers=7` in the `DataLoader` to improve performance.\n",
      "/opt/anaconda3/lib/python3.12/site-packages/pytorch_lightning/trainer/connectors/data_connector.py:425: The 'train_dataloader' does not have many workers which may be a bottleneck. Consider increasing the value of the `num_workers` argument` to `num_workers=7` in the `DataLoader` to improve performance.\n"
     ]
    },
    {
     "data": {
      "application/vnd.jupyter.widget-view+json": {
       "model_id": "96829688329c43a3b8d24f478cfa4bec",
       "version_major": 2,
       "version_minor": 0
      },
      "text/plain": [
       "Training: |          | 0/? [00:00<?, ?it/s]"
      ]
     },
     "metadata": {},
     "output_type": "display_data"
    },
    {
     "data": {
      "application/vnd.jupyter.widget-view+json": {
       "model_id": "9449283ed9ae4685bef7620ac807fdc6",
       "version_major": 2,
       "version_minor": 0
      },
      "text/plain": [
       "Validation: |          | 0/? [00:00<?, ?it/s]"
      ]
     },
     "metadata": {},
     "output_type": "display_data"
    },
    {
     "data": {
      "application/vnd.jupyter.widget-view+json": {
       "model_id": "71feda501def4c1f853b73885e9c5cbb",
       "version_major": 2,
       "version_minor": 0
      },
      "text/plain": [
       "Validation: |          | 0/? [00:00<?, ?it/s]"
      ]
     },
     "metadata": {},
     "output_type": "display_data"
    },
    {
     "data": {
      "application/vnd.jupyter.widget-view+json": {
       "model_id": "38e091b228d3409faa2e061f10cc3445",
       "version_major": 2,
       "version_minor": 0
      },
      "text/plain": [
       "Validation: |          | 0/? [00:00<?, ?it/s]"
      ]
     },
     "metadata": {},
     "output_type": "display_data"
    },
    {
     "data": {
      "application/vnd.jupyter.widget-view+json": {
       "model_id": "d60f2a2ca2ea4169879b481a8ec6f151",
       "version_major": 2,
       "version_minor": 0
      },
      "text/plain": [
       "Validation: |          | 0/? [00:00<?, ?it/s]"
      ]
     },
     "metadata": {},
     "output_type": "display_data"
    },
    {
     "data": {
      "application/vnd.jupyter.widget-view+json": {
       "model_id": "da825b0d205c4feab279d8f980cf3109",
       "version_major": 2,
       "version_minor": 0
      },
      "text/plain": [
       "Validation: |          | 0/? [00:00<?, ?it/s]"
      ]
     },
     "metadata": {},
     "output_type": "display_data"
    },
    {
     "data": {
      "application/vnd.jupyter.widget-view+json": {
       "model_id": "e4b0566fb2c542d1831429de326f3a27",
       "version_major": 2,
       "version_minor": 0
      },
      "text/plain": [
       "Validation: |          | 0/? [00:00<?, ?it/s]"
      ]
     },
     "metadata": {},
     "output_type": "display_data"
    },
    {
     "data": {
      "application/vnd.jupyter.widget-view+json": {
       "model_id": "dff1fe1f53ca49949ca46a64f0f1e0a8",
       "version_major": 2,
       "version_minor": 0
      },
      "text/plain": [
       "Validation: |          | 0/? [00:00<?, ?it/s]"
      ]
     },
     "metadata": {},
     "output_type": "display_data"
    },
    {
     "data": {
      "application/vnd.jupyter.widget-view+json": {
       "model_id": "9e0209ef3f844c229bd152904a5d6223",
       "version_major": 2,
       "version_minor": 0
      },
      "text/plain": [
       "Validation: |          | 0/? [00:00<?, ?it/s]"
      ]
     },
     "metadata": {},
     "output_type": "display_data"
    },
    {
     "data": {
      "application/vnd.jupyter.widget-view+json": {
       "model_id": "d3d1d8d68d5444e6ae93b01dbf380ab6",
       "version_major": 2,
       "version_minor": 0
      },
      "text/plain": [
       "Validation: |          | 0/? [00:00<?, ?it/s]"
      ]
     },
     "metadata": {},
     "output_type": "display_data"
    },
    {
     "data": {
      "application/vnd.jupyter.widget-view+json": {
       "model_id": "18ee277356f2498d9031174b11318b8a",
       "version_major": 2,
       "version_minor": 0
      },
      "text/plain": [
       "Validation: |          | 0/? [00:00<?, ?it/s]"
      ]
     },
     "metadata": {},
     "output_type": "display_data"
    },
    {
     "name": "stderr",
     "output_type": "stream",
     "text": [
      "`Trainer.fit` stopped: `max_epochs=10` reached.\n"
     ]
    }
   ],
   "source": [
    "# Train Model\n",
    "num_labels = len(dataset.label_cols)\n",
    "model = EfficientNetRSNA(num_labels=num_labels,\n",
    "                         lr=lr)\n",
    "\n",
    "trainer = pl.Trainer(max_epochs=max_epochs, accelerator=\"mps\")\n",
    "trainer.fit(model, train_loader, val_loader)"
   ]
  },
  {
   "cell_type": "code",
   "execution_count": null,
   "id": "bb7172ad",
   "metadata": {},
   "outputs": [
    {
     "name": "stdout",
     "output_type": "stream",
     "text": [
      "epidural        → best threshold = 0.18   (F1 = 0.8065)\n",
      "intraparenchymal → best threshold = 0.42   (F1 = 0.8023)\n",
      "intraventricular → best threshold = 0.44   (F1 = 0.7799)\n",
      "subarachnoid    → best threshold = 0.19   (F1 = 0.7299)\n",
      "subdural        → best threshold = 0.26   (F1 = 0.7832)\n"
     ]
    }
   ],
   "source": [
    "from sklearn.metrics import f1_score\n",
    "\n",
    "# Grid‐Search Thresholds on Validation Set\n",
    "device = next(model.parameters()).device\n",
    "model.eval()\n",
    "\n",
    "# Collect probabilities and labels\n",
    "all_probs_val, all_labels_val = [], []\n",
    "with torch.no_grad():\n",
    "    for xb, yb in val_loader:\n",
    "        xb = xb.to(device)\n",
    "        probs = torch.sigmoid(model(xb)).cpu().numpy()\n",
    "        all_probs_val.append(probs)\n",
    "        all_labels_val.append(yb.numpy())\n",
    "\n",
    "probs_val  = np.vstack(all_probs_val)\n",
    "labels_val = np.vstack(all_labels_val)\n",
    "\n",
    "# Sweep for each class\n",
    "label_names = dataset.label_cols\n",
    "opt_thresholds = {}\n",
    "for i, name in enumerate(label_names):\n",
    "    best_t, best_f1 = 0.5, 0.0\n",
    "    for t in np.linspace(0,1,101):\n",
    "        preds = (probs_val[:, i] >= t).astype(int)\n",
    "        f1    = f1_score(labels_val[:, i], preds, zero_division=0)\n",
    "        if f1 > best_f1:\n",
    "            best_f1, best_t = f1, t\n",
    "    opt_thresholds[name] = best_t\n",
    "    print(f\"{name:15s} → best threshold = {best_t:.2f}   (F1 = {best_f1:.4f})\")"
   ]
  },
  {
   "cell_type": "code",
   "execution_count": null,
   "id": "416d99e0",
   "metadata": {},
   "outputs": [
    {
     "name": "stdout",
     "output_type": "stream",
     "text": [
      "\n",
      "Test set performance:\n",
      "  epidural        F1 = 0.7500\n",
      "  intraparenchymal F1 = 0.7900\n",
      "  intraventricular F1 = 0.7740\n",
      "  subarachnoid    F1 = 0.7539\n",
      "  subdural        F1 = 0.7955\n",
      "\n",
      "  Micro-averaged F1: 0.7797\n",
      "Macro-averaged F1: 0.7727\n"
     ]
    }
   ],
   "source": [
    "# Final Evaluation on Test Set\n",
    "all_probs_test, all_labels_test = [], []\n",
    "with torch.no_grad():\n",
    "    for xb, yb in test_loader:\n",
    "        xb = xb.to(device)\n",
    "        probs = torch.sigmoid(model(xb)).cpu().numpy()\n",
    "        all_probs_test.append(probs)\n",
    "        all_labels_test.append(yb.numpy())\n",
    "\n",
    "probs_test  = np.vstack(all_probs_test)\n",
    "labels_test = np.vstack(all_labels_test)\n",
    "\n",
    "# Apply thresholds and compute F1 per class\n",
    "thresh_arr = np.array([opt_thresholds[n] for n in label_names])\n",
    "preds_test = (probs_test >= thresh_arr).astype(int)\n",
    "\n",
    "print(\"\\nTest set performance:\")\n",
    "for i, name in enumerate(label_names):\n",
    "    f1 = f1_score(labels_test[:, i], preds_test[:, i], zero_division=0)\n",
    "    print(f\"  {name:15s} F1 = {f1:.4f}\")\n",
    "\n",
    "micro_f1 = f1_score(labels_test, preds_test, average='micro', zero_division=0)\n",
    "macro_f1 = f1_score(labels_test, preds_test, average='macro', zero_division=0)\n",
    "print(f\"\\n  Micro-averaged F1: {micro_f1:.4f}\")\n",
    "print(f\"Macro-averaged F1: {macro_f1:.4f}\")"
   ]
  },
  {
   "cell_type": "code",
   "execution_count": null,
   "id": "88c4a03c",
   "metadata": {},
   "outputs": [
    {
     "data": {
      "image/png": "[encoded data removed]",
      "text/plain": [
       "<Figure size 800x600 with 1 Axes>"
      ]
     },
     "metadata": {},
     "output_type": "display_data"
    }
   ],
   "source": [
    "# ROC-curve computation & plot\n",
    "from sklearn.metrics import roc_curve, auc\n",
    "import matplotlib.pyplot as plt\n",
    "\n",
    "fpr, tpr, roc_auc = {}, {}, {}\n",
    "\n",
    "for i, name in enumerate(label_names):\n",
    "    if labels_test[:, i].sum() == 0:\n",
    "        print(f\"No positive samples for “{name}” in test set — skipping ROC.\")\n",
    "        continue\n",
    "    \n",
    "    fpr[i], tpr[i], _ = roc_curve(labels_test[:, i], probs_test[:, i])\n",
    "    roc_auc[i] = auc(fpr[i], tpr[i])\n",
    "\n",
    "fpr[\"micro\"], tpr[\"micro\"], _ = roc_curve(labels_test.ravel(), probs_test.ravel())\n",
    "roc_auc[\"micro\"] = auc(fpr[\"micro\"], tpr[\"micro\"])\n",
    "\n",
    "# Plot\n",
    "plt.figure(figsize=(8, 6))\n",
    "\n",
    "# Micro-average\n",
    "plt.plot(\n",
    "    fpr[\"micro\"], tpr[\"micro\"],\n",
    "    label=f\"micro-average (AUC = {roc_auc['micro']:.2f})\",\n",
    "    linestyle=':', linewidth=3\n",
    ")\n",
    "\n",
    "# Per-class\n",
    "for i, name in enumerate(label_names):\n",
    "    if i not in fpr:\n",
    "        continue\n",
    "    plt.plot(\n",
    "        fpr[i], tpr[i],\n",
    "        lw=2,\n",
    "        label=f\"{name} (AUC = {roc_auc[i]:.2f})\"\n",
    "    )\n",
    "\n",
    "# Chance line\n",
    "plt.plot([0, 1], [0, 1], 'k--', lw=1)\n",
    "\n",
    "plt.title('2D – Multi-Label ROC Curves', fontsize=18, pad=15)\n",
    "plt.xlabel('False Positive Rate', fontsize=14)\n",
    "plt.ylabel('True Positive Rate', fontsize=14)\n",
    "plt.xlim([0.0, 1.0]); plt.ylim([0.0, 1.05])\n",
    "plt.xticks(fontsize=12); plt.yticks(fontsize=12)\n",
    "plt.legend(loc='lower right', fontsize=12, title=\"Classes\", title_fontsize=13)\n",
    "plt.tight_layout()\n",
    "plt.savefig('roc_curves.pdf', format='pdf', bbox_inches='tight')\n",
    "plt.show()"
   ]
  },
  {
   "cell_type": "code",
   "execution_count": null,
   "id": "3fd5e2e4",
   "metadata": {},
   "outputs": [
    {
     "name": "stdout",
     "output_type": "stream",
     "text": [
      "Number of images in test set: 7630\n",
      "\n",
      "Total true positives : 1301\n",
      "Total true negatives : 36114\n",
      "Total false positives: 332\n",
      "Total false negatives: 403\n",
      "\n",
      "Per-class breakdown:\n",
      "  epidural        TP =   33   TN =   7575   FP =    9   FN =   13\n",
      "  intraparenchymal TP =  346   TN =   7100   FP =   82   FN =  102\n",
      "  intraventricular TP =  214   TN =   7291   FP =   58   FN =   67\n",
      "  subarachnoid    TP =  288   TN =   7154   FP =   59   FN =  129\n",
      "  subdural        TP =  420   TN =   6994   FP =  124   FN =   92\n"
     ]
    }
   ],
   "source": [
    "# Test‐set size & confusion‐summary\n",
    "num_test_samples = labels_test.shape[0]\n",
    "print(f\"Number of images in test set: {num_test_samples}\\n\")\n",
    "\n",
    "# Boolean masks\n",
    "tp_mask = (preds_test == 1) & (labels_test == 1)\n",
    "tn_mask = (preds_test == 0) & (labels_test == 0)\n",
    "fp_mask = (preds_test == 1) & (labels_test == 0)\n",
    "fn_mask = (preds_test == 0) & (labels_test == 1)\n",
    "\n",
    "total_tp = int(tp_mask.sum())\n",
    "total_tn = int(tn_mask.sum())\n",
    "total_fp = int(fp_mask.sum())\n",
    "total_fn = int(fn_mask.sum())\n",
    "\n",
    "print(f\"Total true positives : {total_tp}\")\n",
    "print(f\"Total true negatives : {total_tn}\")\n",
    "print(f\"Total false positives: {total_fp}\")\n",
    "print(f\"Total false negatives: {total_fn}\\n\")\n",
    "\n",
    "# Per-class counts\n",
    "print(\"Per-class breakdown:\")\n",
    "for i, name in enumerate(label_names):\n",
    "    tp_i = int(tp_mask[:, i].sum())\n",
    "    tn_i = int(tn_mask[:, i].sum())\n",
    "    fp_i = int(fp_mask[:, i].sum())\n",
    "    fn_i = int(fn_mask[:, i].sum())\n",
    "    print(f\"  {name:15s} TP = {tp_i:4d}   TN = {tn_i:6d}   FP = {fp_i:4d}   FN = {fn_i:4d}\")"
   ]
  },
  {
   "cell_type": "code",
   "execution_count": null,
   "id": "46ed51df",
   "metadata": {},
   "outputs": [
    {
     "name": "stdout",
     "output_type": "stream",
     "text": [
      "Images perfectly classified across all 5 labels: 6985 / 7630 (91.5%)\n"
     ]
    }
   ],
   "source": [
    "# Image-level perfect-classification count\n",
    "perfect_mask = np.all(preds_test == labels_test, axis=1)\n",
    "\n",
    "num_perfect = int(perfect_mask.sum())\n",
    "num_images  = labels_test.shape[0]\n",
    "pct_perfect = num_perfect / num_images * 100\n",
    "\n",
    "print(f\"Images perfectly classified across all {labels_test.shape[1]} labels: {num_perfect} / {num_images} \"\n",
    "      f\"({pct_perfect:.1f}%)\")"
   ]
  }
 ],
 "metadata": {
  "kernelspec": {
   "display_name": "base",
   "language": "python",
   "name": "python3"
  },
  "language_info": {
   "codemirror_mode": {
    "name": "ipython",
    "version": 3
   },
   "file_extension": ".py",
   "mimetype": "text/x-python",
   "name": "python",
   "nbconvert_exporter": "python",
   "pygments_lexer": "ipython3",
   "version": "3.12.4"
  }
 },
 "nbformat": 4,
 "nbformat_minor": 5
}
